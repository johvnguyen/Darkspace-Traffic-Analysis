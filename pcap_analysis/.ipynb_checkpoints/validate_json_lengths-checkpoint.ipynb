{
 "cells": [
  {
   "cell_type": "code",
   "execution_count": 21,
   "id": "31a677c9-cfc2-4516-a342-6bf08f033d05",
   "metadata": {},
   "outputs": [],
   "source": [
    "from pcap_processing.json_parsing import *\n",
    "import pprint\n",
    "from os import listdir\n",
    "\n",
    "from scapy.all import rdpcap\n",
    "from pprint import pprint\n"
   ]
  },
  {
   "cell_type": "code",
   "execution_count": 13,
   "id": "0f1c88e1-4bd5-41f8-9192-c4ad96366477",
   "metadata": {},
   "outputs": [
    {
     "name": "stdout",
     "output_type": "stream",
     "text": [
      "There are 168 json files\n"
     ]
    }
   ],
   "source": [
    "json_dir = 'telescopesampleanon/metadata/'\n",
    "json_files = listdir(\"./telescopesampleanon/metadata\")\n",
    "split_json_files = [file.split('.') for file in json_files]\n",
    "json_fnames = [''.join([x[0], x[1]]) for x in split_json_files]\n",
    "json_fpaths = [f'{json_dir}{file}' for file in json_files]\n",
    "\n",
    "print(f'There are {len(json_fnames)} json files')\n"
   ]
  },
  {
   "cell_type": "code",
   "execution_count": 14,
   "id": "5a7c0d62-6316-4de2-9294-18519fe79bd0",
   "metadata": {},
   "outputs": [
    {
     "name": "stdout",
     "output_type": "stream",
     "text": [
      "There are 168 pcap files\n"
     ]
    }
   ],
   "source": [
    "pcap_dir = 'telescopesampleanon/pcapsanon/'\n",
    "pcap_files = listdir('./telescopesampleanon/pcapsanon')\n",
    "split_pcap_files = [file.split('.') for file in pcap_files]\n",
    "pcap_fnames = [''.join([x[0], x[1]]) for x in split_pcap_files]\n",
    "pcap_fpaths = [f'{pcap_dir}{file}' for file in pcap_files]\n",
    "\n",
    "print(f'There are {len(pcap_fnames)} pcap files')"
   ]
  },
  {
   "cell_type": "code",
   "execution_count": 19,
   "id": "eac9b226-182f-4fbb-8e56-8e88b575c64c",
   "metadata": {},
   "outputs": [
    {
     "name": "stdout",
     "output_type": "stream",
     "text": [
      "The pcaps and jsons have the same file prefixes: True\n",
      "The pcaps and jsons are ordered the same: True\n"
     ]
    }
   ],
   "source": [
    "print(f'The pcaps and jsons have the same file prefixes: {set(pcap_fnames) == set(json_fnames)}')\n",
    "print(f'The pcaps and jsons are ordered the same: {pcap_fnames == json_fnames}')"
   ]
  },
  {
   "cell_type": "code",
   "execution_count": 28,
   "id": "b0ecaa1c-f901-45fb-a285-e59d4c8a903d",
   "metadata": {},
   "outputs": [
    {
     "name": "stdout",
     "output_type": "stream",
     "text": [
      "---------------------------------------------\n",
      "I am on file number 1 out of 168: ucsd-nt.1660435200.pcap\n",
      "I have 105246 pcaps\n",
      "I have 105246 jsons\n",
      "I have the same number of pcaps as jsons\n",
      "---------------------------------------------\n"
     ]
    }
   ],
   "source": [
    "# TODO: Make fpaths from the same base fname list to guarentee ordering\n",
    "#pcaps = [rdpcap(pcap_fpath) for pcap_fpath in pcap_fpaths]\n",
    "#jsons = [parse_json(json_fpath) for json_fpath in json_fpaths]\n",
    "\n",
    "for i in range(len(pcap_files))\n",
    "    print(f'---------------------------------------------')\n",
    "    print(f'I am on file number {i + 1} out of 168: {pcap_files[i]}')\n",
    "    \n",
    "    pcaps = rdpcap(pcap_fpaths[i])\n",
    "    jsons = parse_json(json_fpaths[i])\n",
    "\n",
    "    print(f'I have {len(pcaps)} pcaps')\n",
    "    print(f'I have {len(jsons)} jsons')\n",
    "\n",
    "    if len(pcaps) == len(jsons):\n",
    "        print(f'I have the same number of pcaps as jsons')\n",
    "    else:\n",
    "        print(f'ERROR: This files does not have the same number of pcaps as jsons')\n",
    "    \n",
    "    print(f'---------------------------------------------')\n"
   ]
  },
  {
   "cell_type": "code",
   "execution_count": null,
   "id": "dbe9a07f-f199-4381-945e-4845a3173354",
   "metadata": {},
   "outputs": [],
   "source": []
  }
 ],
 "metadata": {
  "kernelspec": {
   "display_name": "Python 3 (ipykernel)",
   "language": "python",
   "name": "python3"
  },
  "language_info": {
   "codemirror_mode": {
    "name": "ipython",
    "version": 3
   },
   "file_extension": ".py",
   "mimetype": "text/x-python",
   "name": "python",
   "nbconvert_exporter": "python",
   "pygments_lexer": "ipython3",
   "version": "3.12.7"
  }
 },
 "nbformat": 4,
 "nbformat_minor": 5
}
